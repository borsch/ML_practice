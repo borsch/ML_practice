{
 "cells": [
  {
   "cell_type": "code",
   "execution_count": 16,
   "metadata": {},
   "outputs": [
    {
     "name": "stdout",
     "output_type": "stream",
     "text": [
      "[[0, 1, 2], [0, 1, 2], [0, 1, 2]]\n",
      "[1.8393972058572117, 0.3852812666806436, 1.8393972058572117]\n"
     ]
    }
   ],
   "source": [
    "import math\n",
    "import scipy.linalg\n",
    "import numpy as np\n",
    "\n",
    "f = lambda x: math.sin(x / 5) * math.exp(x / 10) + 5*math.exp(-x / 2)\n",
    "\n",
    "a = [[i for i in range(0, 3)] for j in range(0, 3)]\n",
    "b = [f(1), f(15), f(2)]\n",
    "\n",
    "print(a)\n",
    "print(b)\n",
    "\n",
    "a = np.array([[3,2,0],[1,-1,0],[0,5,1]])\n",
    "b = np.array([2,4,-1])\n",
    "x = scipy.inalg.solve(a,b)\n",
    "print(x)\n",
    "\n",
    "#rint(scipy.linalg.solve(a, b))"
   ]
  },
  {
   "cell_type": "code",
   "execution_count": null,
   "metadata": {
    "collapsed": true
   },
   "outputs": [],
   "source": []
  }
 ],
 "metadata": {
  "kernelspec": {
   "display_name": "Python 2",
   "language": "python",
   "name": "python2"
  },
  "language_info": {
   "codemirror_mode": {
    "name": "ipython",
    "version": 2
   },
   "file_extension": ".py",
   "mimetype": "text/x-python",
   "name": "python",
   "nbconvert_exporter": "python",
   "pygments_lexer": "ipython2",
   "version": "2.7.14"
  }
 },
 "nbformat": 4,
 "nbformat_minor": 2
}
