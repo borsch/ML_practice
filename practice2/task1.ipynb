{
 "cells": [
  {
   "cell_type": "code",
   "execution_count": 65,
   "metadata": {},
   "outputs": [
    {
     "name": "stdout",
     "output_type": "stream",
     "text": [
      "0.0\n",
      "0.952754440874\n",
      "0.864473814564\n",
      "0.895171516328\n",
      "0.77708871497\n",
      "0.940238569533\n",
      "0.732738758088\n",
      "0.925875068334\n",
      "0.884272487528\n",
      "0.905508881748\n",
      "0.832816536227\n",
      "0.880477139067\n",
      "0.839643254853\n",
      "0.87035925529\n",
      "0.87401184233\n",
      "0.944272178742\n",
      "0.840636185422\n",
      "0.956644501524\n",
      "0.944272178742\n",
      "0.888544357485\n",
      "0.842757274492\n",
      "0.825036446944\n",
      "22 x 254\n"
     ]
    }
   ],
   "source": [
    "import re\n",
    "import scipy.spatial.distance\n",
    "\n",
    "full_list = []\n",
    "unique = []\n",
    "for line in open('sentences.txt', 'r'):\n",
    "    line = re.split('[^a-z]', line.lower())\n",
    "    line = filter(None, line)\n",
    "    \n",
    "    dictionary = { }\n",
    "    for i, part in enumerate(set(line)):\n",
    "        dictionary[part] = {\"id\": i, \"freq\": line.count(part)}\n",
    "        unique.append(part)\n",
    "    \n",
    "    full_list.append(dictionary)\n",
    "   \n",
    "\n",
    "full_matrix = []\n",
    "\n",
    "for i, elem in enumerate(full_list):\n",
    "    temp = []\n",
    "    for j, word in enumerate(set(unique)):\n",
    "        obj = elem.get(word)\n",
    "        \n",
    "        if (obj is not None):\n",
    "            temp.append(obj['freq'])\n",
    "        else:\n",
    "            temp.append(0)\n",
    "    full_matrix.append(temp)\n",
    "    print scipy.spatial.distance.cosine(full_matrix[0], full_matrix[i])\n",
    "    \n",
    "print len(full_matrix), 'x', len(full_matrix[0])\n",
    "        \n"
   ]
  },
  {
   "cell_type": "code",
   "execution_count": null,
   "metadata": {
    "collapsed": true
   },
   "outputs": [],
   "source": []
  }
 ],
 "metadata": {
  "kernelspec": {
   "display_name": "Python 2",
   "language": "python",
   "name": "python2"
  },
  "language_info": {
   "codemirror_mode": {
    "name": "ipython",
    "version": 2
   },
   "file_extension": ".py",
   "mimetype": "text/x-python",
   "name": "python",
   "nbconvert_exporter": "python",
   "pygments_lexer": "ipython2",
   "version": "2.7.14"
  }
 },
 "nbformat": 4,
 "nbformat_minor": 2
}
