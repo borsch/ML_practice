{
 "cells": [
  {
   "cell_type": "markdown",
   "metadata": {},
   "source": [
    "### import libs"
   ]
  },
  {
   "cell_type": "code",
   "execution_count": 62,
   "metadata": {
    "collapsed": true
   },
   "outputs": [],
   "source": [
    "from math import *\n",
    "import scipy.optimize\n",
    "import matplotlib.pyplot\n",
    "\n",
    "f = lambda x: sin(x/5) * exp(x/10) + 5 * exp(-x/2)\n",
    "\n",
    "def draw(func):\n",
    "    x = [i for i in range(40)]\n",
    "    y = [func(val) for i, val in enumerate(x)]\n",
    "    \n",
    "    matplotlib.pyplot.plot(x, y)\n",
    "    matplotlib.pyplot.axis([0, 40, -15, 20])\n",
    "    matplotlib.pyplot.show()\n",
    "    \n",
    "def print_result(result):\n",
    "    print result\n",
    "    print round(result.fun, 2)"
   ]
  },
  {
   "cell_type": "markdown",
   "metadata": {},
   "source": [
    "## task 1"
   ]
  },
  {
   "cell_type": "code",
   "execution_count": 64,
   "metadata": {},
   "outputs": [
    {
     "data": {
      "image/png": "[encoded data removed]",
      "text/plain": [
       "<matplotlib.figure.Figure at 0x9adecf8>"
      ]
     },
     "metadata": {},
     "output_type": "display_data"
    },
    {
     "name": "stdout",
     "output_type": "stream",
     "text": [
      "      fun: 1.7452682903447336\n",
      " hess_inv: array([[ 5.98752645]])\n",
      "      jac: array([ -2.04145908e-06])\n",
      "  message: 'Optimization terminated successfully.'\n",
      "     nfev: 21\n",
      "      nit: 6\n",
      "     njev: 7\n",
      "   status: 0\n",
      "  success: True\n",
      "        x: array([ 4.13627628])\n",
      "1.75\n",
      "      fun: -11.898894665981313\n",
      " hess_inv: array([[ 1.67936744]])\n",
      "      jac: array([ 0.])\n",
      "  message: 'Optimization terminated successfully.'\n",
      "     nfev: 21\n",
      "      nit: 6\n",
      "     njev: 7\n",
      "   status: 0\n",
      "  success: True\n",
      "        x: array([ 25.88019321])\n",
      "-11.9\n"
     ]
    }
   ],
   "source": [
    "def calculate_t1(start_value):\n",
    "    res = scipy.optimize.minimize(f, start_value, method='BFGS')\n",
    "    print_result(res)\n",
    "    \n",
    "draw(f)\n",
    "calculate_t1(2)\n",
    "calculate_t1(30)"
   ]
  },
  {
   "cell_type": "markdown",
   "metadata": {},
   "source": [
    "## task 2"
   ]
  },
  {
   "cell_type": "code",
   "execution_count": 65,
   "metadata": {
    "scrolled": true
   },
   "outputs": [
    {
     "data": {
      "image/png": "[encoded data removed]",
      "text/plain": [
       "<matplotlib.figure.Figure at 0x9125b38>"
      ]
     },
     "metadata": {},
     "output_type": "display_data"
    },
    {
     "name": "stdout",
     "output_type": "stream",
     "text": [
      "     fun: -11.89889466598038\n",
      "     jac: array([  1.24344979e-06])\n",
      " message: 'Optimization terminated successfully.'\n",
      "    nfev: 111\n",
      "     nit: 6\n",
      " success: True\n",
      "       x: array([ 25.88019481])\n",
      "-11.9\n"
     ]
    }
   ],
   "source": [
    "def calculate_t2(bounds):\n",
    "    res = scipy.optimize.differential_evolution(f, bounds)\n",
    "    print_result(res)\n",
    "    \n",
    "draw(f)\n",
    "calculate_t2([(1, 30)]) "
   ]
  },
  {
   "cell_type": "markdown",
   "metadata": {},
   "source": [
    "## task 3"
   ]
  },
  {
   "cell_type": "code",
   "execution_count": 66,
   "metadata": {},
   "outputs": [
    {
     "data": {
      "image/png": "[encoded data removed]",
      "text/plain": [
       "<matplotlib.figure.Figure at 0x9b75a20>"
      ]
     },
     "metadata": {},
     "output_type": "display_data"
    },
    {
     "name": "stdout",
     "output_type": "stream",
     "text": [
      "      fun: -5\n",
      " hess_inv: array([[1]])\n",
      "      jac: array([ 0.])\n",
      "  message: 'Optimization terminated successfully.'\n",
      "     nfev: 3\n",
      "      nit: 0\n",
      "     njev: 1\n",
      "   status: 0\n",
      "  success: True\n",
      "        x: array([ 30.])\n",
      "-5.0\n",
      "     fun: -11.0\n",
      " message: 'Optimization terminated successfully.'\n",
      "    nfev: 62\n",
      "     nit: 3\n",
      " success: True\n",
      "       x: array([ 27.04423664])\n",
      "-11.0\n"
     ]
    }
   ],
   "source": [
    "def h(x):\n",
    "    return int(f(x))\n",
    "\n",
    "def calculate_t3_min(start_value):\n",
    "    res = scipy.optimize.minimize(h, start_value, method='BFGS')\n",
    "    print_result(res)\n",
    "    \n",
    "def calculate_t3_evo(bounds):\n",
    "    res = scipy.optimize.differential_evolution(h, bounds)\n",
    "    print_result(res)\n",
    "    \n",
    "draw(h)\n",
    "calculate_t3_min(30)\n",
    "calculate_t3_evo([(1, 30)])"
   ]
  },
  {
   "cell_type": "code",
   "execution_count": null,
   "metadata": {
    "collapsed": true
   },
   "outputs": [],
   "source": []
  },
  {
   "cell_type": "code",
   "execution_count": null,
   "metadata": {
    "collapsed": true
   },
   "outputs": [],
   "source": []
  },
  {
   "cell_type": "code",
   "execution_count": null,
   "metadata": {
    "collapsed": true
   },
   "outputs": [],
   "source": []
  }
 ],
 "metadata": {
  "kernelspec": {
   "display_name": "Python 2",
   "language": "python",
   "name": "python2"
  },
  "language_info": {
   "codemirror_mode": {
    "name": "ipython",
    "version": 2
   },
   "file_extension": ".py",
   "mimetype": "text/x-python",
   "name": "python",
   "nbconvert_exporter": "python",
   "pygments_lexer": "ipython2",
   "version": "2.7.14"
  }
 },
 "nbformat": 4,
 "nbformat_minor": 2
}
